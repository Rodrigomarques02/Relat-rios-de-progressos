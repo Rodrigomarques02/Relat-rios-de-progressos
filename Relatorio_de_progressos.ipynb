{
  "nbformat": 4,
  "nbformat_minor": 0,
  "metadata": {
    "colab": {
      "provenance": []
    },
    "kernelspec": {
      "name": "python3",
      "display_name": "Python 3"
    },
    "language_info": {
      "name": "python"
    }
  },
  "cells": [
    {
      "cell_type": "markdown",
      "source": [
        "# <font color = orange > Relatórios de progressos"
      ],
      "metadata": {
        "id": "gdzeoPPDNCSa"
      }
    },
    {
      "cell_type": "markdown",
      "source": [
        "- Esse arquivo está sendo criado para mostrar o relatorio de progresso da semana e nele sera usado o Pandas que é uma biblioteca de software escrita para a linguagem de programação Python que fornece recursos de manipulação e análise de dados.NumPy, que significa Numerical Python, é um pacote fundamental para computação científica em Python.Matplotlib é uma biblioteca multiplataforma e multifuncional capaz de produzir gráficos estáticos, animados e interativos em vários estilos, formatos e mídias"
      ],
      "metadata": {
        "id": "1LzC1CM1NYAb"
      }
    },
    {
      "cell_type": "code",
      "source": [
        "import pandas as pd\n",
        "import numpy as np\n",
        "import matplotlib.pyplot as plt"
      ],
      "metadata": {
        "id": "uQsjAGZ_OMr7"
      },
      "execution_count": null,
      "outputs": []
    },
    {
      "cell_type": "markdown",
      "source": [
        "## Tabela fornecida pelo contratante pra que eu possa analisar os dados de um projeto de desenvolvimento de software ao longo de uma semana."
      ],
      "metadata": {
        "id": "VCybAT_eu39o"
      }
    },
    {
      "cell_type": "markdown",
      "source": [
        "- Os dados fornecidos permitirão ao Scrum Master da equipe de desenvolvimento obter insights sobre o progresso e pontos a serem melhorados\n",
        "do projeto,  tomar decisões melhores para garantir o sucesso do projeto e assim abrir portas para possiveis projetos futuros."
      ],
      "metadata": {
        "id": "ftEQsWYyb6hq"
      }
    },
    {
      "cell_type": "code",
      "source": [
        "relatorio_de_dados = {'Dia da semana ' : ['segunda','terca', 'quarta', 'quinta', 'sexta', 'sabado', 'domingo'],\n",
        "                      'Horas trabalhadas' : [6,7,8,6,7,5,4],\n",
        "                      'Bugs corrigidos' : [3,2,1,4,3,2,1],\n",
        "                      'Tarefas concluidas' :[5,4,6,4,5,3,2]}\n",
        "\n",
        "relatorio = pd.DataFrame(relatorio_de_dados, index= [0,1,2,3,4,5,6])\n",
        "relatorio"
      ],
      "metadata": {
        "colab": {
          "base_uri": "https://localhost:8080/",
          "height": 269
        },
        "id": "VpFXcEpHOhYo",
        "outputId": "4e49bb65-ee1a-4e7d-dee1-a30afdb1baca"
      },
      "execution_count": null,
      "outputs": [
        {
          "output_type": "execute_result",
          "data": {
            "text/plain": [
              "  Dia da semana   Horas trabalhadas  Bugs corrigidos  Tarefas concluidas\n",
              "0        segunda                  6                3                   5\n",
              "1          terca                  7                2                   4\n",
              "2         quarta                  8                1                   6\n",
              "3         quinta                  6                4                   4\n",
              "4          sexta                  7                3                   5\n",
              "5         sabado                  5                2                   3\n",
              "6        domingo                  4                1                   2"
            ],
            "text/html": [
              "\n",
              "\n",
              "  <div id=\"df-f78e5a1f-cd07-4595-a9f2-7176c5f6a337\">\n",
              "    <div class=\"colab-df-container\">\n",
              "      <div>\n",
              "<style scoped>\n",
              "    .dataframe tbody tr th:only-of-type {\n",
              "        vertical-align: middle;\n",
              "    }\n",
              "\n",
              "    .dataframe tbody tr th {\n",
              "        vertical-align: top;\n",
              "    }\n",
              "\n",
              "    .dataframe thead th {\n",
              "        text-align: right;\n",
              "    }\n",
              "</style>\n",
              "<table border=\"1\" class=\"dataframe\">\n",
              "  <thead>\n",
              "    <tr style=\"text-align: right;\">\n",
              "      <th></th>\n",
              "      <th>Dia da semana</th>\n",
              "      <th>Horas trabalhadas</th>\n",
              "      <th>Bugs corrigidos</th>\n",
              "      <th>Tarefas concluidas</th>\n",
              "    </tr>\n",
              "  </thead>\n",
              "  <tbody>\n",
              "    <tr>\n",
              "      <th>0</th>\n",
              "      <td>segunda</td>\n",
              "      <td>6</td>\n",
              "      <td>3</td>\n",
              "      <td>5</td>\n",
              "    </tr>\n",
              "    <tr>\n",
              "      <th>1</th>\n",
              "      <td>terca</td>\n",
              "      <td>7</td>\n",
              "      <td>2</td>\n",
              "      <td>4</td>\n",
              "    </tr>\n",
              "    <tr>\n",
              "      <th>2</th>\n",
              "      <td>quarta</td>\n",
              "      <td>8</td>\n",
              "      <td>1</td>\n",
              "      <td>6</td>\n",
              "    </tr>\n",
              "    <tr>\n",
              "      <th>3</th>\n",
              "      <td>quinta</td>\n",
              "      <td>6</td>\n",
              "      <td>4</td>\n",
              "      <td>4</td>\n",
              "    </tr>\n",
              "    <tr>\n",
              "      <th>4</th>\n",
              "      <td>sexta</td>\n",
              "      <td>7</td>\n",
              "      <td>3</td>\n",
              "      <td>5</td>\n",
              "    </tr>\n",
              "    <tr>\n",
              "      <th>5</th>\n",
              "      <td>sabado</td>\n",
              "      <td>5</td>\n",
              "      <td>2</td>\n",
              "      <td>3</td>\n",
              "    </tr>\n",
              "    <tr>\n",
              "      <th>6</th>\n",
              "      <td>domingo</td>\n",
              "      <td>4</td>\n",
              "      <td>1</td>\n",
              "      <td>2</td>\n",
              "    </tr>\n",
              "  </tbody>\n",
              "</table>\n",
              "</div>\n",
              "      <button class=\"colab-df-convert\" onclick=\"convertToInteractive('df-f78e5a1f-cd07-4595-a9f2-7176c5f6a337')\"\n",
              "              title=\"Convert this dataframe to an interactive table.\"\n",
              "              style=\"display:none;\">\n",
              "\n",
              "  <svg xmlns=\"http://www.w3.org/2000/svg\" height=\"24px\"viewBox=\"0 0 24 24\"\n",
              "       width=\"24px\">\n",
              "    <path d=\"M0 0h24v24H0V0z\" fill=\"none\"/>\n",
              "    <path d=\"M18.56 5.44l.94 2.06.94-2.06 2.06-.94-2.06-.94-.94-2.06-.94 2.06-2.06.94zm-11 1L8.5 8.5l.94-2.06 2.06-.94-2.06-.94L8.5 2.5l-.94 2.06-2.06.94zm10 10l.94 2.06.94-2.06 2.06-.94-2.06-.94-.94-2.06-.94 2.06-2.06.94z\"/><path d=\"M17.41 7.96l-1.37-1.37c-.4-.4-.92-.59-1.43-.59-.52 0-1.04.2-1.43.59L10.3 9.45l-7.72 7.72c-.78.78-.78 2.05 0 2.83L4 21.41c.39.39.9.59 1.41.59.51 0 1.02-.2 1.41-.59l7.78-7.78 2.81-2.81c.8-.78.8-2.07 0-2.86zM5.41 20L4 18.59l7.72-7.72 1.47 1.35L5.41 20z\"/>\n",
              "  </svg>\n",
              "      </button>\n",
              "\n",
              "\n",
              "\n",
              "    <div id=\"df-9398d2d5-ec3b-46f6-881d-4651e4bb3a2a\">\n",
              "      <button class=\"colab-df-quickchart\" onclick=\"quickchart('df-9398d2d5-ec3b-46f6-881d-4651e4bb3a2a')\"\n",
              "              title=\"Suggest charts.\"\n",
              "              style=\"display:none;\">\n",
              "\n",
              "<svg xmlns=\"http://www.w3.org/2000/svg\" height=\"24px\"viewBox=\"0 0 24 24\"\n",
              "     width=\"24px\">\n",
              "    <g>\n",
              "        <path d=\"M19 3H5c-1.1 0-2 .9-2 2v14c0 1.1.9 2 2 2h14c1.1 0 2-.9 2-2V5c0-1.1-.9-2-2-2zM9 17H7v-7h2v7zm4 0h-2V7h2v10zm4 0h-2v-4h2v4z\"/>\n",
              "    </g>\n",
              "</svg>\n",
              "      </button>\n",
              "    </div>\n",
              "\n",
              "<style>\n",
              "  .colab-df-quickchart {\n",
              "    background-color: #E8F0FE;\n",
              "    border: none;\n",
              "    border-radius: 50%;\n",
              "    cursor: pointer;\n",
              "    display: none;\n",
              "    fill: #1967D2;\n",
              "    height: 32px;\n",
              "    padding: 0 0 0 0;\n",
              "    width: 32px;\n",
              "  }\n",
              "\n",
              "  .colab-df-quickchart:hover {\n",
              "    background-color: #E2EBFA;\n",
              "    box-shadow: 0px 1px 2px rgba(60, 64, 67, 0.3), 0px 1px 3px 1px rgba(60, 64, 67, 0.15);\n",
              "    fill: #174EA6;\n",
              "  }\n",
              "\n",
              "  [theme=dark] .colab-df-quickchart {\n",
              "    background-color: #3B4455;\n",
              "    fill: #D2E3FC;\n",
              "  }\n",
              "\n",
              "  [theme=dark] .colab-df-quickchart:hover {\n",
              "    background-color: #434B5C;\n",
              "    box-shadow: 0px 1px 3px 1px rgba(0, 0, 0, 0.15);\n",
              "    filter: drop-shadow(0px 1px 2px rgba(0, 0, 0, 0.3));\n",
              "    fill: #FFFFFF;\n",
              "  }\n",
              "</style>\n",
              "\n",
              "    <script>\n",
              "      async function quickchart(key) {\n",
              "        const containerElement = document.querySelector('#' + key);\n",
              "        const charts = await google.colab.kernel.invokeFunction(\n",
              "            'suggestCharts', [key], {});\n",
              "      }\n",
              "    </script>\n",
              "\n",
              "      <script>\n",
              "\n",
              "function displayQuickchartButton(domScope) {\n",
              "  let quickchartButtonEl =\n",
              "    domScope.querySelector('#df-9398d2d5-ec3b-46f6-881d-4651e4bb3a2a button.colab-df-quickchart');\n",
              "  quickchartButtonEl.style.display =\n",
              "    google.colab.kernel.accessAllowed ? 'block' : 'none';\n",
              "}\n",
              "\n",
              "        displayQuickchartButton(document);\n",
              "      </script>\n",
              "      <style>\n",
              "    .colab-df-container {\n",
              "      display:flex;\n",
              "      flex-wrap:wrap;\n",
              "      gap: 12px;\n",
              "    }\n",
              "\n",
              "    .colab-df-convert {\n",
              "      background-color: #E8F0FE;\n",
              "      border: none;\n",
              "      border-radius: 50%;\n",
              "      cursor: pointer;\n",
              "      display: none;\n",
              "      fill: #1967D2;\n",
              "      height: 32px;\n",
              "      padding: 0 0 0 0;\n",
              "      width: 32px;\n",
              "    }\n",
              "\n",
              "    .colab-df-convert:hover {\n",
              "      background-color: #E2EBFA;\n",
              "      box-shadow: 0px 1px 2px rgba(60, 64, 67, 0.3), 0px 1px 3px 1px rgba(60, 64, 67, 0.15);\n",
              "      fill: #174EA6;\n",
              "    }\n",
              "\n",
              "    [theme=dark] .colab-df-convert {\n",
              "      background-color: #3B4455;\n",
              "      fill: #D2E3FC;\n",
              "    }\n",
              "\n",
              "    [theme=dark] .colab-df-convert:hover {\n",
              "      background-color: #434B5C;\n",
              "      box-shadow: 0px 1px 3px 1px rgba(0, 0, 0, 0.15);\n",
              "      filter: drop-shadow(0px 1px 2px rgba(0, 0, 0, 0.3));\n",
              "      fill: #FFFFFF;\n",
              "    }\n",
              "  </style>\n",
              "\n",
              "      <script>\n",
              "        const buttonEl =\n",
              "          document.querySelector('#df-f78e5a1f-cd07-4595-a9f2-7176c5f6a337 button.colab-df-convert');\n",
              "        buttonEl.style.display =\n",
              "          google.colab.kernel.accessAllowed ? 'block' : 'none';\n",
              "\n",
              "        async function convertToInteractive(key) {\n",
              "          const element = document.querySelector('#df-f78e5a1f-cd07-4595-a9f2-7176c5f6a337');\n",
              "          const dataTable =\n",
              "            await google.colab.kernel.invokeFunction('convertToInteractive',\n",
              "                                                     [key], {});\n",
              "          if (!dataTable) return;\n",
              "\n",
              "          const docLinkHtml = 'Like what you see? Visit the ' +\n",
              "            '<a target=\"_blank\" href=https://colab.research.google.com/notebooks/data_table.ipynb>data table notebook</a>'\n",
              "            + ' to learn more about interactive tables.';\n",
              "          element.innerHTML = '';\n",
              "          dataTable['output_type'] = 'display_data';\n",
              "          await google.colab.output.renderOutput(dataTable, element);\n",
              "          const docLink = document.createElement('div');\n",
              "          docLink.innerHTML = docLinkHtml;\n",
              "          element.appendChild(docLink);\n",
              "        }\n",
              "      </script>\n",
              "    </div>\n",
              "  </div>\n"
            ]
          },
          "metadata": {},
          "execution_count": 42
        }
      ]
    },
    {
      "cell_type": "markdown",
      "source": [
        "## Relatorio total de Horas Trabalhadas.\n",
        "\n",
        "\n",
        "\n",
        "\n",
        "\n",
        "  "
      ],
      "metadata": {
        "id": "amURuRzNX1JG"
      }
    },
    {
      "cell_type": "markdown",
      "source": [
        "- Com esse relatorio e possivel observar a quantidade de horas trabalhadas no projeto de desenvolvimento de software durante a semana que aqui foram de 43 horas, podemos ve que teve bastante dedicacao no projeto."
      ],
      "metadata": {
        "id": "tk1jfP6OctkS"
      }
    },
    {
      "cell_type": "code",
      "source": [
        "relatorio['Horas trabalhadas'].sum()"
      ],
      "metadata": {
        "id": "AE15ieqzX-3Z",
        "colab": {
          "base_uri": "https://localhost:8080/"
        },
        "outputId": "9e9dff56-2420-43cd-dca8-48410529d7e1"
      },
      "execution_count": null,
      "outputs": [
        {
          "output_type": "execute_result",
          "data": {
            "text/plain": [
              "43"
            ]
          },
          "metadata": {},
          "execution_count": 39
        }
      ]
    },
    {
      "cell_type": "markdown",
      "source": [
        "## Relatorio da Média Diária de Horas Trabalhadas.\n",
        "\n",
        "\n"
      ],
      "metadata": {
        "id": "b8uxCBfcclf9"
      }
    },
    {
      "cell_type": "markdown",
      "source": [
        "- Nesse relatorio podemos observar a media diaria de horas trabalhadas no projeto de desenvolvimento de software durante a semana que fico em media de 6.14 horas por dia isso pode indicar uma boa carga horaria por dia."
      ],
      "metadata": {
        "id": "YPR-pGWJdeXj"
      }
    },
    {
      "cell_type": "code",
      "source": [
        "relatorio['Horas trabalhadas'].mean()"
      ],
      "metadata": {
        "id": "J1vgdHhqcxzX",
        "colab": {
          "base_uri": "https://localhost:8080/"
        },
        "outputId": "18e932cf-6ebb-40c8-97e7-9db74279c3a7"
      },
      "execution_count": null,
      "outputs": [
        {
          "output_type": "execute_result",
          "data": {
            "text/plain": [
              "6.142857142857143"
            ]
          },
          "metadata": {},
          "execution_count": 38
        }
      ]
    },
    {
      "cell_type": "markdown",
      "source": [
        "## Relatorio total de Bugs Corrigidos.\n"
      ],
      "metadata": {
        "id": "M5EWPkWqeL2O"
      }
    },
    {
      "cell_type": "markdown",
      "source": [
        "- Nesee relatorio podemos observar o total de Bugs Corrigidos que foram de 16 bugs durante a semana, nesse caso e bom termos atencao para que isso nao venha impactar no prazo de entrega e nem na qualidade do projeto de desenvolvimento de software.\n"
      ],
      "metadata": {
        "id": "AutHyTsRf2an"
      }
    },
    {
      "cell_type": "code",
      "source": [
        "relatorio['Bugs corrigidos'].sum()"
      ],
      "metadata": {
        "colab": {
          "base_uri": "https://localhost:8080/"
        },
        "id": "4oHm-G6aeQdw",
        "outputId": "ec207804-13dd-42d9-8489-ce046b15204a"
      },
      "execution_count": null,
      "outputs": [
        {
          "output_type": "execute_result",
          "data": {
            "text/plain": [
              "16"
            ]
          },
          "metadata": {},
          "execution_count": 31
        }
      ]
    },
    {
      "cell_type": "markdown",
      "source": [
        "## Relatorio da Média Diária de Bugs Corrigidos\n",
        "\n"
      ],
      "metadata": {
        "id": "qGUYYfjlenOr"
      }
    },
    {
      "cell_type": "markdown",
      "source": [
        "- Nesse relatorio podemos observar a media diaria de bugs corrigidos durante a semana que foram de 2.28, percebemos que temos ai uma oscilação durante a semana nesse caso e bom ficarmos atentos e buscar o que pode ter acontecido, e buscar solucoes para problemas que venham aparecer."
      ],
      "metadata": {
        "id": "sbB3xDZqgIID"
      }
    },
    {
      "cell_type": "code",
      "source": [
        "relatorio['Bugs corrigidos'].mean()"
      ],
      "metadata": {
        "colab": {
          "base_uri": "https://localhost:8080/"
        },
        "id": "JeAmEbJ7etVc",
        "outputId": "67660756-ef55-4b4e-dfed-44dc1dfa7f77"
      },
      "execution_count": null,
      "outputs": [
        {
          "output_type": "execute_result",
          "data": {
            "text/plain": [
              "2.2857142857142856"
            ]
          },
          "metadata": {},
          "execution_count": 32
        }
      ]
    },
    {
      "cell_type": "markdown",
      "source": [
        "## Relatorio do total de Tarefas Concluídas\n",
        "\n"
      ],
      "metadata": {
        "id": "MzN8pIewe8Sl"
      }
    },
    {
      "cell_type": "markdown",
      "source": [
        "- Nesse relatorio podemos observar a quantidade de tarefas concluidas durante a semana que foram de 29 tarefas e com isso podemos ter insights da produtividade que o grupo teve."
      ],
      "metadata": {
        "id": "B2bKeR80gwN1"
      }
    },
    {
      "cell_type": "code",
      "source": [
        "relatorio['Tarefas concluidas'].sum()"
      ],
      "metadata": {
        "colab": {
          "base_uri": "https://localhost:8080/"
        },
        "id": "8bsKEGKue-Qv",
        "outputId": "5a65719c-350e-4442-b046-b204069b96b1"
      },
      "execution_count": null,
      "outputs": [
        {
          "output_type": "execute_result",
          "data": {
            "text/plain": [
              "29"
            ]
          },
          "metadata": {},
          "execution_count": 33
        }
      ]
    },
    {
      "cell_type": "markdown",
      "source": [
        "##  Relatorio da Média Diária de Tarefas Concluídas"
      ],
      "metadata": {
        "id": "IWpe8YDOfVDC"
      }
    },
    {
      "cell_type": "markdown",
      "source": [
        "- Nesse relatorio podemos observar a media diaria de tarefas concluidas que foi de 4.14 durante a semana  assim podemos tirar insigts de como esta o progresso do projeto de desenvolvimento de software, comparando os dias podemos observar a oscilação que teve é bom ficarmos atentos e buscar saber o que ouve pra buscar solucoes pra possiveis problemas futuros."
      ],
      "metadata": {
        "id": "1ktK-jt-hXrA"
      }
    },
    {
      "cell_type": "code",
      "source": [
        "relatorio['Tarefas concluidas'].mean()"
      ],
      "metadata": {
        "colab": {
          "base_uri": "https://localhost:8080/"
        },
        "id": "JautQY10fXd2",
        "outputId": "6a11cfff-e24a-45f2-da0e-d34c0ac5d9a9"
      },
      "execution_count": null,
      "outputs": [
        {
          "output_type": "execute_result",
          "data": {
            "text/plain": [
              "4.142857142857143"
            ]
          },
          "metadata": {},
          "execution_count": 20
        }
      ]
    },
    {
      "cell_type": "markdown",
      "source": [
        "## Criando um relatorio de Produtividade Diária (Tarefas Concluídas por Hora)\n"
      ],
      "metadata": {
        "id": "_o5Y0YWwgBQN"
      }
    },
    {
      "cell_type": "markdown",
      "source": [
        "- Nesse relatorio podemos observar a quantidade de tarefas concluidas por hora que foram de 0.67 , e bom termos uma atencao pois isso pode impactar muito na qualidade do trabalho e no prazo da entrega."
      ],
      "metadata": {
        "id": "7Q3KSug-x-m4"
      }
    },
    {
      "cell_type": "markdown",
      "source": [
        "- Algumas sugestoes para analise sao, na segunda-feira, a produtividade foi a mais alta 0.83 tarefas por hora, o que pode indicar maior foco e eficiencia nesse dia. No domingo , a produtividade foi a mais baixa 0.50 tarefas por hora, talvez seja interessante analisar se esses dia esta sendo mais desafiadore para a equipe ou se existem fatores externos que possam esta influenciando no desempenho."
      ],
      "metadata": {
        "id": "WaXiJwsK67U1"
      }
    },
    {
      "cell_type": "code",
      "source": [
        "produtividade = relatorio['Tarefas concluidas'].sum() / relatorio['Horas trabalhadas'].sum()\n",
        "produtividade"
      ],
      "metadata": {
        "colab": {
          "base_uri": "https://localhost:8080/"
        },
        "id": "duLzBz_XgEdw",
        "outputId": "5c74b756-1a8b-497b-950c-c386464bc3e3"
      },
      "execution_count": null,
      "outputs": [
        {
          "output_type": "execute_result",
          "data": {
            "text/plain": [
              "0.6744186046511628"
            ]
          },
          "metadata": {},
          "execution_count": 21
        }
      ]
    },
    {
      "cell_type": "markdown",
      "source": [
        "# Grafico usado para mostrar a produtividade por hora"
      ],
      "metadata": {
        "id": "-pKdM53O8UQV"
      }
    },
    {
      "cell_type": "code",
      "source": [
        "# Primeiro, certifique-se de que 'Horas trabalhadas' e 'Tarefas concluidas' são numéricas\n",
        "relatorio['Horas trabalhadas'] = pd.to_numeric(relatorio['Horas trabalhadas'])\n",
        "relatorio['Tarefas concluidas'] = pd.to_numeric(relatorio['Tarefas concluidas'])\n",
        "\n",
        "# Crie uma nova coluna para tarefas concluídas por hora\n",
        "relatorio['Tarefas concluídas por hora'] = relatorio['Tarefas concluidas'] / relatorio['Horas trabalhadas']\n",
        "\n",
        "# Agora, crie um gráfico de barras com a produtividade para cada dia\n",
        "plt.figure(figsize=(10,5))\n",
        "plt.bar(relatorio['Dia da semana '], relatorio['Tarefas concluídas por hora'], color='skyblue')\n",
        "\n",
        "# Destaque o dia com a melhor produtividade em verde e o dia com a pior produtividade em vermelho\n",
        "plt.bar(relatorio['Dia da semana '][relatorio['Tarefas concluídas por hora'].idxmax()], relatorio['Tarefas concluídas por hora'].max(), color='green')\n",
        "plt.bar(relatorio['Dia da semana '][relatorio['Tarefas concluídas por hora'].idxmin()], relatorio['Tarefas concluídas por hora'].min(), color='red')\n",
        "\n",
        "plt.xlabel('Dia da semana')\n",
        "plt.ylabel('Tarefas concluídas por hora')\n",
        "plt.title('Produtividade durante a semana')\n",
        "\n",
        "plt.show()\n"
      ],
      "metadata": {
        "colab": {
          "base_uri": "https://localhost:8080/",
          "height": 487
        },
        "id": "t6HSj01J5TFF",
        "outputId": "53f28243-47a1-4d46-95b5-48252c2f4749"
      },
      "execution_count": null,
      "outputs": [
        {
          "output_type": "display_data",
          "data": {
            "text/plain": [
              "<Figure size 1000x500 with 1 Axes>"
            ],
            "image/png": "[encoded data removed]"
          },
          "metadata": {}
        }
      ]
    },
    {
      "cell_type": "markdown",
      "source": [
        "- Na segunda - feira, a produtividade foi de 0.83 tarefas por hora.\n",
        "Na terca - feira, a produtividade foi de 0.57 tarefas por hora.\n",
        "Na quarta - feira, a produtividade foi de 0.75 tarefas por hora.\n",
        "Na quinta - feira, a produtividade foi de 0.67 tarefas por hora.\n",
        "Na sexta - feira, a produtividade foi de 0.71 tarefas por hora.\n",
        "No sabado, a produtividade foi de 0.60 tarefas por hora.\n",
        "No domingo, a produtividade foi de 0.50 tarefas por hora."
      ],
      "metadata": {
        "id": "c5BxxsFz8hss"
      }
    },
    {
      "cell_type": "markdown",
      "source": [
        "## Grafico de Barras (Horas Trabalhadas, Por dia da semana)"
      ],
      "metadata": {
        "id": "lPqBbYnOONrd"
      }
    },
    {
      "cell_type": "code",
      "source": [
        "plt.figure(figsize=(8, 5))\n",
        "plt.bar(relatorio_de_dados['Dia da semana '], relatorio_de_dados['Horas trabalhadas'], color='skyblue')\n",
        "plt.xlabel('Dia da semana')\n",
        "plt.ylabel('Horas trabalhadas')\n",
        "plt.title('Horas trabalhadas por dia da semana')\n",
        "plt.xticks(rotation=45)\n",
        "plt.show()"
      ],
      "metadata": {
        "colab": {
          "base_uri": "https://localhost:8080/",
          "height": 526
        },
        "id": "LIlkNmXyOOwJ",
        "outputId": "e25063f7-4a13-4dd9-e908-a85f95f1a72f"
      },
      "execution_count": null,
      "outputs": [
        {
          "output_type": "display_data",
          "data": {
            "text/plain": [
              "<Figure size 800x500 with 1 Axes>"
            ],
            "image/png": "[encoded data removed]"
          },
          "metadata": {}
        }
      ]
    },
    {
      "cell_type": "markdown",
      "source": [
        "# Criando tabela para mostrar as respostas."
      ],
      "metadata": {
        "id": "6A-H7PBa5BOj"
      }
    },
    {
      "cell_type": "code",
      "source": [
        "Respostas = {'Total de horas trabalhada' : [ 43 ],\n",
        "                      'Media diaria de horas trabalhada' : [ 6.142857142857143 ],\n",
        "                      'total de bugs corrigidos' : [ 16 ],\n",
        "                      'Media diaria de bugs corrigidos' :[ 2.2857142857142856 ],\n",
        "                      'Total de tarefas concluidas' :[ 29 ],\n",
        "                      'Media diaria de tarefas concluidas' : [ 4.142857142857143 ],\n",
        "                      'Tarefas concluidas por hora' : [0.6744186046511628 ]}\n",
        "\n",
        "relatorio = pd.DataFrame(Respostas)\n",
        "relatorio"
      ],
      "metadata": {
        "colab": {
          "base_uri": "https://localhost:8080/",
          "height": 81
        },
        "id": "zrjrZgIu19Tx",
        "outputId": "0611bc7c-3235-4c72-c18c-fdc25ca24289"
      },
      "execution_count": null,
      "outputs": [
        {
          "output_type": "execute_result",
          "data": {
            "text/plain": [
              "   Total de horas trabalhada  Media diaria de horas trabalhada  \\\n",
              "0                         43                          6.142857   \n",
              "\n",
              "   total de bugs corrigidos  Media diaria de bugs corrigidos  \\\n",
              "0                        16                         2.285714   \n",
              "\n",
              "   Total de tarefas concluidas  Media diaria de tarefas concluidas  \\\n",
              "0                           29                            4.142857   \n",
              "\n",
              "   Tarefas concluidas por hora  \n",
              "0                     0.674419  "
            ],
            "text/html": [
              "\n",
              "\n",
              "  <div id=\"df-59102e23-6a6a-45b9-a4ea-9a83f7ba3db1\">\n",
              "    <div class=\"colab-df-container\">\n",
              "      <div>\n",
              "<style scoped>\n",
              "    .dataframe tbody tr th:only-of-type {\n",
              "        vertical-align: middle;\n",
              "    }\n",
              "\n",
              "    .dataframe tbody tr th {\n",
              "        vertical-align: top;\n",
              "    }\n",
              "\n",
              "    .dataframe thead th {\n",
              "        text-align: right;\n",
              "    }\n",
              "</style>\n",
              "<table border=\"1\" class=\"dataframe\">\n",
              "  <thead>\n",
              "    <tr style=\"text-align: right;\">\n",
              "      <th></th>\n",
              "      <th>Total de horas trabalhada</th>\n",
              "      <th>Media diaria de horas trabalhada</th>\n",
              "      <th>total de bugs corrigidos</th>\n",
              "      <th>Media diaria de bugs corrigidos</th>\n",
              "      <th>Total de tarefas concluidas</th>\n",
              "      <th>Media diaria de tarefas concluidas</th>\n",
              "      <th>Tarefas concluidas por hora</th>\n",
              "    </tr>\n",
              "  </thead>\n",
              "  <tbody>\n",
              "    <tr>\n",
              "      <th>0</th>\n",
              "      <td>43</td>\n",
              "      <td>6.142857</td>\n",
              "      <td>16</td>\n",
              "      <td>2.285714</td>\n",
              "      <td>29</td>\n",
              "      <td>4.142857</td>\n",
              "      <td>0.674419</td>\n",
              "    </tr>\n",
              "  </tbody>\n",
              "</table>\n",
              "</div>\n",
              "      <button class=\"colab-df-convert\" onclick=\"convertToInteractive('df-59102e23-6a6a-45b9-a4ea-9a83f7ba3db1')\"\n",
              "              title=\"Convert this dataframe to an interactive table.\"\n",
              "              style=\"display:none;\">\n",
              "\n",
              "  <svg xmlns=\"http://www.w3.org/2000/svg\" height=\"24px\"viewBox=\"0 0 24 24\"\n",
              "       width=\"24px\">\n",
              "    <path d=\"M0 0h24v24H0V0z\" fill=\"none\"/>\n",
              "    <path d=\"M18.56 5.44l.94 2.06.94-2.06 2.06-.94-2.06-.94-.94-2.06-.94 2.06-2.06.94zm-11 1L8.5 8.5l.94-2.06 2.06-.94-2.06-.94L8.5 2.5l-.94 2.06-2.06.94zm10 10l.94 2.06.94-2.06 2.06-.94-2.06-.94-.94-2.06-.94 2.06-2.06.94z\"/><path d=\"M17.41 7.96l-1.37-1.37c-.4-.4-.92-.59-1.43-.59-.52 0-1.04.2-1.43.59L10.3 9.45l-7.72 7.72c-.78.78-.78 2.05 0 2.83L4 21.41c.39.39.9.59 1.41.59.51 0 1.02-.2 1.41-.59l7.78-7.78 2.81-2.81c.8-.78.8-2.07 0-2.86zM5.41 20L4 18.59l7.72-7.72 1.47 1.35L5.41 20z\"/>\n",
              "  </svg>\n",
              "      </button>\n",
              "\n",
              "\n",
              "\n",
              "    <div id=\"df-9d94be95-6707-4a1a-b839-bbb8db0e0780\">\n",
              "      <button class=\"colab-df-quickchart\" onclick=\"quickchart('df-9d94be95-6707-4a1a-b839-bbb8db0e0780')\"\n",
              "              title=\"Suggest charts.\"\n",
              "              style=\"display:none;\">\n",
              "\n",
              "<svg xmlns=\"http://www.w3.org/2000/svg\" height=\"24px\"viewBox=\"0 0 24 24\"\n",
              "     width=\"24px\">\n",
              "    <g>\n",
              "        <path d=\"M19 3H5c-1.1 0-2 .9-2 2v14c0 1.1.9 2 2 2h14c1.1 0 2-.9 2-2V5c0-1.1-.9-2-2-2zM9 17H7v-7h2v7zm4 0h-2V7h2v10zm4 0h-2v-4h2v4z\"/>\n",
              "    </g>\n",
              "</svg>\n",
              "      </button>\n",
              "    </div>\n",
              "\n",
              "<style>\n",
              "  .colab-df-quickchart {\n",
              "    background-color: #E8F0FE;\n",
              "    border: none;\n",
              "    border-radius: 50%;\n",
              "    cursor: pointer;\n",
              "    display: none;\n",
              "    fill: #1967D2;\n",
              "    height: 32px;\n",
              "    padding: 0 0 0 0;\n",
              "    width: 32px;\n",
              "  }\n",
              "\n",
              "  .colab-df-quickchart:hover {\n",
              "    background-color: #E2EBFA;\n",
              "    box-shadow: 0px 1px 2px rgba(60, 64, 67, 0.3), 0px 1px 3px 1px rgba(60, 64, 67, 0.15);\n",
              "    fill: #174EA6;\n",
              "  }\n",
              "\n",
              "  [theme=dark] .colab-df-quickchart {\n",
              "    background-color: #3B4455;\n",
              "    fill: #D2E3FC;\n",
              "  }\n",
              "\n",
              "  [theme=dark] .colab-df-quickchart:hover {\n",
              "    background-color: #434B5C;\n",
              "    box-shadow: 0px 1px 3px 1px rgba(0, 0, 0, 0.15);\n",
              "    filter: drop-shadow(0px 1px 2px rgba(0, 0, 0, 0.3));\n",
              "    fill: #FFFFFF;\n",
              "  }\n",
              "</style>\n",
              "\n",
              "    <script>\n",
              "      async function quickchart(key) {\n",
              "        const containerElement = document.querySelector('#' + key);\n",
              "        const charts = await google.colab.kernel.invokeFunction(\n",
              "            'suggestCharts', [key], {});\n",
              "      }\n",
              "    </script>\n",
              "\n",
              "      <script>\n",
              "\n",
              "function displayQuickchartButton(domScope) {\n",
              "  let quickchartButtonEl =\n",
              "    domScope.querySelector('#df-9d94be95-6707-4a1a-b839-bbb8db0e0780 button.colab-df-quickchart');\n",
              "  quickchartButtonEl.style.display =\n",
              "    google.colab.kernel.accessAllowed ? 'block' : 'none';\n",
              "}\n",
              "\n",
              "        displayQuickchartButton(document);\n",
              "      </script>\n",
              "      <style>\n",
              "    .colab-df-container {\n",
              "      display:flex;\n",
              "      flex-wrap:wrap;\n",
              "      gap: 12px;\n",
              "    }\n",
              "\n",
              "    .colab-df-convert {\n",
              "      background-color: #E8F0FE;\n",
              "      border: none;\n",
              "      border-radius: 50%;\n",
              "      cursor: pointer;\n",
              "      display: none;\n",
              "      fill: #1967D2;\n",
              "      height: 32px;\n",
              "      padding: 0 0 0 0;\n",
              "      width: 32px;\n",
              "    }\n",
              "\n",
              "    .colab-df-convert:hover {\n",
              "      background-color: #E2EBFA;\n",
              "      box-shadow: 0px 1px 2px rgba(60, 64, 67, 0.3), 0px 1px 3px 1px rgba(60, 64, 67, 0.15);\n",
              "      fill: #174EA6;\n",
              "    }\n",
              "\n",
              "    [theme=dark] .colab-df-convert {\n",
              "      background-color: #3B4455;\n",
              "      fill: #D2E3FC;\n",
              "    }\n",
              "\n",
              "    [theme=dark] .colab-df-convert:hover {\n",
              "      background-color: #434B5C;\n",
              "      box-shadow: 0px 1px 3px 1px rgba(0, 0, 0, 0.15);\n",
              "      filter: drop-shadow(0px 1px 2px rgba(0, 0, 0, 0.3));\n",
              "      fill: #FFFFFF;\n",
              "    }\n",
              "  </style>\n",
              "\n",
              "      <script>\n",
              "        const buttonEl =\n",
              "          document.querySelector('#df-59102e23-6a6a-45b9-a4ea-9a83f7ba3db1 button.colab-df-convert');\n",
              "        buttonEl.style.display =\n",
              "          google.colab.kernel.accessAllowed ? 'block' : 'none';\n",
              "\n",
              "        async function convertToInteractive(key) {\n",
              "          const element = document.querySelector('#df-59102e23-6a6a-45b9-a4ea-9a83f7ba3db1');\n",
              "          const dataTable =\n",
              "            await google.colab.kernel.invokeFunction('convertToInteractive',\n",
              "                                                     [key], {});\n",
              "          if (!dataTable) return;\n",
              "\n",
              "          const docLinkHtml = 'Like what you see? Visit the ' +\n",
              "            '<a target=\"_blank\" href=https://colab.research.google.com/notebooks/data_table.ipynb>data table notebook</a>'\n",
              "            + ' to learn more about interactive tables.';\n",
              "          element.innerHTML = '';\n",
              "          dataTable['output_type'] = 'display_data';\n",
              "          await google.colab.output.renderOutput(dataTable, element);\n",
              "          const docLink = document.createElement('div');\n",
              "          docLink.innerHTML = docLinkHtml;\n",
              "          element.appendChild(docLink);\n",
              "        }\n",
              "      </script>\n",
              "    </div>\n",
              "  </div>\n"
            ]
          },
          "metadata": {},
          "execution_count": 34
        }
      ]
    },
    {
      "cell_type": "markdown",
      "source": [
        "# Conclusao que tivemos no projeto"
      ],
      "metadata": {
        "id": "T-fi2xbbDXLY"
      }
    },
    {
      "cell_type": "markdown",
      "source": [
        "- O relatorio de progresso diario é uma ferramenta de grande ajuda para o Scrum Master da equipe do projeto , fornecendo insights valiosos sobre o desempenho da equipe ao longo do projeto. As analises apresentadas indicam que a equipe esta progredindo de maneira satisfatoria, com uma boa produtividade e eficiencia na correçao de bugs e conclusao de tarefas.\n",
        "Para garantir o sucesso continuo do projeto, é recomendado monitorar regularmente essas , identificar possiveis areas de melhoria e tomar decisoes informadas com base nos resultados obtidos. Além disso, a comunicaçao efetiva entre os membros da equipe e a realização de reuniões regulares de acompanhamento podem ajudar a abordar desafios e manter o projeto no caminho certo\n",
        "Com essa abordagem de analise e monitoramento,o Scrum Master da equipe podera tomar decisoes mais assertivas, otimizar o processo de desenvolvimento e garantir o sucesso do projeto de desenvolvimento de software."
      ],
      "metadata": {
        "id": "MT_VNDzUDkH9"
      }
    },
    {
      "cell_type": "markdown",
      "source": [
        "- LEMBRESSE DE APRENDER A APRENDER SEMPRE."
      ],
      "metadata": {
        "id": "lO-QLTA4F96x"
      }
    }
  ]
}